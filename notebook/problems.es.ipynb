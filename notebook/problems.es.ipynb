{
 "cells": [
  {
   "cell_type": "markdown",
   "id": "d9d036c6",
   "metadata": {},
   "source": [
    "# Problemas de prueba de hipótesis"
   ]
  },
  {
   "cell_type": "markdown",
   "id": "d157c4db",
   "metadata": {},
   "source": [
    "## Ejercicio 1\n",
    "\n",
    "Usted es un nutricionista que investiga dos tipos diferentes de dietas para ver si existe una diferencia significativa en la pérdida de peso después de un mes. Eliges dos grupos aleatorios de personas; un grupo sigue la primera dieta y el otro sigue la segunda. Al final del mes, se registra la pérdida de peso (en kg) de cada persona:\n",
    "\n",
    "| Diet 1 | Diet 2 |\n",
    "|:-------|:-------|\n",
    "| 2.0 | 3.0 |\n",
    "| 2.5 | 3.2 |\n",
    "| 3.0 | 3.1 |\n",
    "| 2.8 | 2.9 |\n",
    "| 2.3 | 2.8 |\n",
    "| 2.7 | 3.0 |\n",
    "| 2.5 | 3.2 |\n",
    "\n",
    "Con estos datos se busca responder a la siguiente pregunta: ¿Existe una diferencia significativa en la pérdida de peso promedio entre las personas que siguieron la primera dieta y las que siguieron la segunda dieta?\n",
    "\n",
    "Para sacar conclusiones, siga los siguientes puntos:\n",
    "\n",
    "-Enunciar la hipótesis: hipótesis nula y alternativa.\n",
    "-Realizar la prueba para comprobar la hipótesis. Puede utilizar la prueba t de Student.\n",
    "-Analizar las conclusiones."
   ]
  },
  {
   "cell_type": "code",
   "execution_count": null,
   "id": "8e0f3cf0",
   "metadata": {},
   "outputs": [
    {
     "name": "stdout",
     "output_type": "stream",
     "text": [
      "El resultado del estadístico t en esta hipótesis es: [-3.79342082], y por lo tanto rechazo la hipótesis nula\n",
      "El resultado del p-valor en esta hipótesis es: [0.00903711], y por lo tanto rechazo la hipótesis nula\n"
     ]
    }
   ],
   "source": [
    "# TODO\n",
    "import numpy as np\n",
    "import scipy.stats as stats\n",
    "\n",
    "diet1 = np.array([2, 2.5, 3, 2.8, 2.3, 2.7, 2.5])\n",
    "diet2 = np.array([3, 3.2, 3.1, 2.9, 2.8, 3, 3.2])\n",
    "\n",
    "#La hipótesis nula sería si la diferencia entre las medias de la primera y segunda dieta son distintas a 0.\n",
    "#Esto quiere decir que la hipótesis nula defiende que no existe una diferencia significativa en la pérdida de peso entre las dos dietas.\n",
    "#Mientras que la hipótesis alternativa defiende que si que existe una diferencia significativa entre ambas.\n",
    "#H0: media_diet1 - media_diet2 = 0\n",
    "#H1: media-diet1 - media_diet2 != 0\n",
    "\n",
    "t_valor, p_valor = stats.ttest_rel(a=diet1, b=diet2, alternative=\"two-sided\", keepdims=True)\n",
    "if abs(t_valor) >= 1.96:\n",
    "    print(f\"El resultado del estadístico t en esta hipótesis es: {t_valor}, y por lo tanto rechazo la hipótesis nula\")\n",
    "else:\n",
    "    print(f\"El resultado del estadístico t en esta hipótesis es: {t_valor}, y por lo tanto no rechazo la hipótesis nula\")\n",
    "\n",
    "if p_valor <= 0.05:\n",
    "    print(f\"El resultado del p-valor en esta hipótesis es: {p_valor}, y por lo tanto rechazo la hipótesis nula\")\n",
    "else: \n",
    "    print(f\"El resultado del p-valor en esta hipótesis es: {p_valor}, y por lo tanto no rechazo la hipótesis nula\")\n",
    "\n",
    "#Los resultados nos muetran que rechazamos la hipótesis nula. Por lo que, las medias de las reducciones de peso en ambas muestras sí se diferencian significativamente.\n",
    "\n",
    "\n"
   ]
  },
  {
   "cell_type": "markdown",
   "id": "f432e18e",
   "metadata": {},
   "source": [
    "## ANOVA\n",
    "\n",
    "**ANOVA** (*Analysis of Variance - Análisis de variación*) Es una técnica estadística utilizada para comparar las medidas de dos o más grupos. La idea detrás de ANOVA es descomponer la variabilidad total de los datos en dos componentes: variabilidad entre grupos y variabilidad dentro de los grupos:\n",
    "\n",
    "- **Variabilidad entre grupos**: Esta variabilidad se refiere a las diferencias entre las medias del grupo. Si esta variabilidad es considerablemente mayor que la variabilidad dentro del grupo, podría ser una indicación de que al menos una de las medias del grupo es diferente.\n",
    "- **Variabilidad dentro del grupo**: Esta variabilidad se refiere a la dispersión de los datos dentro de cada grupo. Si todos los grupos tienen una variabilidad similar, entonces cualquier diferencia notable en las medias de los grupos podría considerarse significativa.\n",
    "\n",
    "Las hipótesis en ANOVA suelen incluir:\n",
    "\n",
    "- **Hipótesis nula** ($H₀$): Las medias de todos los grupos son iguales.\n",
    "- **Hipótesis alternativa** ($H₁$): Al menos una de las medias del grupo es diferente.\n",
    "\n",
    "Si el resultado de la prueba ANOVA es significativo (por ejemplo, un valor p inferior a un umbral como 0,05), esto sugiere que al menos la media de un grupo es diferente."
   ]
  },
  {
   "cell_type": "markdown",
   "id": "fc5f3721",
   "metadata": {},
   "source": [
    "## Ejercicio 2\n",
    "\n",
    "Un agricultor decide probar tres tipos diferentes de fertilizantes para determinar si alguno es superior en términos de producción de maíz. El agricultor planta maíz en 15 parcelas idénticas y utiliza los tres fertilizantes (5 parcelas para cada tipo). Al final de la temporada mide el rendimiento de maíz (en kg) de cada parcela, con el siguiente resultado:\n",
    "\n",
    "| Fertilizante 1 | Fertilizante 2 | Fertilizante 3 |\n",
    "|:-------------|:-------------|:-------------|\n",
    "| 20 | 22 | 24 |\n",
    "| 21 | 21 | 23 |\n",
    "| 20 | 23 | 22 |\n",
    "| 19 | 22 | 23 |\n",
    "| 20 | 21 | 24 |\n",
    "\n",
    "Con estos datos busca responder la siguiente pregunta: ¿Existe una diferencia significativa en el rendimiento promedio del maíz entre los tres tipos de fertilizantes?\n",
    "\n",
    "Para ayudarte, sigue los siguientes puntos:\n",
    "\n",
    "-Enunciar la hipótesis: hipótesis nula y alternativa.\n",
    "-Realizar la prueba ANOVA.\n",
    "-Analizar las conclusiones.\n",
    "-Si un fertilizante es mejor que otro, ¿cómo podemos saberlo?"
   ]
  },
  {
   "cell_type": "code",
   "execution_count": 29,
   "id": "eecad0ca",
   "metadata": {},
   "outputs": [
    {
     "name": "stdout",
     "output_type": "stream",
     "text": [
      "El resultado del estadístico t en esta hipótesis es: 20.32, y por lo tanto rechazo la hipótesis nula\n",
      "El resultado del p-valor en esta hipótesis es: 0.00014, y por lo tanto rechazo la hipótesis nula\n",
      "Multiple Comparison of Means - Tukey HSD, FWER=0.05\n",
      "==================================================\n",
      "group1 group2 meandiff p-adj  lower  upper  reject\n",
      "--------------------------------------------------\n",
      "    F1     F2      1.8 0.0099 0.4572 3.1428   True\n",
      "    F1     F3      3.2 0.0001 1.8572 4.5428   True\n",
      "    F2     F3      1.4 0.0409 0.0572 2.7428   True\n",
      "--------------------------------------------------\n"
     ]
    }
   ],
   "source": [
    "# TODO\n",
    "import numpy as np\n",
    "import scipy.stats as stats\n",
    "\n",
    "fert1 = np.array([20, 21, 20, 19, 20])\n",
    "fert2 = np.array([22, 21, 23, 22, 21])\n",
    "fert3= np.array([24, 23, 22, 23, 24])\n",
    "\n",
    "#La hipótesis nula sería que el rendimiento del maíz de media es significativamente igual entre los 3 grupos.\n",
    "#La alternativa por el otro lado, sería que al menos una media de los tres grupos es distinta a la de los otros dos.\n",
    "#H0: media_fert1 = media_fert2 = media_fert3\n",
    "#H1: media_fert1 != media_fert2 y/o != media_fert3\n",
    "\n",
    "F = stats.f_oneway(fert1, fert2, fert3)\n",
    "t_valor2 = F.statistic\n",
    "p_valor2 = F.pvalue\n",
    "\n",
    "if abs(t_valor2) >= 1.96:\n",
    "    print(f\"El resultado del estadístico t en esta hipótesis es: {t_valor2:.2f}, y por lo tanto rechazo la hipótesis nula\")\n",
    "else:\n",
    "    print(f\"El resultado del estadístico t en esta hipótesis es: {t_valor2:.2f}, y por lo tanto no rechazo la hipótesis nula\")\n",
    "\n",
    "if p_valor2 <= 0.05:\n",
    "    print(f\"El resultado del p-valor en esta hipótesis es: {p_valor2:.5f}, y por lo tanto rechazo la hipótesis nula\")\n",
    "else: \n",
    "    print(f\"El resultado del p-valor en esta hipótesis es: {p_valor2:.5f}, y por lo tanto no rechazo la hipótesis nula\")\n",
    "\n",
    "#Los resultados nos muetran que rechazamos la hipótesis nula. Por lo que, las medias del rendimiento del maíz, según el fertilizante, son distintas.\n",
    "#Al menos una es significativamente distinta de la del resto\n",
    "\n",
    "\n",
    "from statsmodels.stats.multicomp import pairwise_tukeyhsd\n",
    "\n",
    "data = np.concatenate([fert1, fert2, fert3])\n",
    "labels = [\"F1\"] * 5 + [\"F2\"] * 5 + [\"F3\"] * 5\n",
    "\n",
    "# Tukey test\n",
    "result = pairwise_tukeyhsd(data, labels, alpha = 0.05)\n",
    "print(result)\n",
    "\n",
    "#Vemos en la columna de meandiff que: de media el fertilizante 2 da mejores resultados que el ferilizante 1\n",
    "#   El fertilizante 3 da mejores resultados que el fertilizante 1 (de hecho, la diferencia de sus medias es mayor)\n",
    "#   Finalmente, y como se puede ver con la diferencia entre las diferencias antes comparadas, el fertilizante 3 es tiene mejores resultados de media que el fertilizante 2.\n"
   ]
  }
 ],
 "metadata": {
  "kernelspec": {
   "display_name": "Python 3",
   "language": "python",
   "name": "python3"
  },
  "language_info": {
   "codemirror_mode": {
    "name": "ipython",
    "version": 3
   },
   "file_extension": ".py",
   "mimetype": "text/x-python",
   "name": "python",
   "nbconvert_exporter": "python",
   "pygments_lexer": "ipython3",
   "version": "3.11.4"
  }
 },
 "nbformat": 4,
 "nbformat_minor": 5
}
